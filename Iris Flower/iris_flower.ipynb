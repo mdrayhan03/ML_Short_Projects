{
 "cells": [
  {
   "cell_type": "code",
   "execution_count": 11,
   "id": "038f7c0c",
   "metadata": {},
   "outputs": [],
   "source": [
    "# necessary libraries\n",
    "from sklearn.linear_model import LogisticRegression # ml model\n",
    "from sklearn.svm import SVC # ml model\n",
    "from sklearn.tree import DecisionTreeClassifier # ml model\n",
    "from sklearn.ensemble import RandomForestClassifier # ml model\n",
    "from sklearn.model_selection import train_test_split # split data for train & test\n",
    "from sklearn.metrics import accuracy_score # test the accuracy\n",
    "import pandas as pd # load csv\n",
    "import joblib #  extract the model in pkl format"
   ]
  },
  {
   "cell_type": "code",
   "execution_count": null,
   "id": "6f7cee5a",
   "metadata": {},
   "outputs": [],
   "source": [
    "# load data\n",
    "data = pd.read_csv(\"IRIS.csv\")"
   ]
  },
  {
   "cell_type": "code",
   "execution_count": null,
   "id": "f2097e42",
   "metadata": {},
   "outputs": [],
   "source": [
    "x_data = data.drop(\"species\", axis=1)\n",
    "y_data = data[\"species\"]"
   ]
  },
  {
   "cell_type": "code",
   "execution_count": 5,
   "id": "4252e89d",
   "metadata": {},
   "outputs": [],
   "source": [
    "X_train, X_test, y_train, y_test = train_test_split(x_data, y_data)"
   ]
  },
  {
   "cell_type": "code",
   "execution_count": null,
   "id": "a6e543d2",
   "metadata": {},
   "outputs": [
    {
     "name": "stdout",
     "output_type": "stream",
     "text": [
      "Accuracy Score: 92.10526315789474%\n"
     ]
    }
   ],
   "source": [
    "# logistic regression model\n",
    "log_model = LogisticRegression()\n",
    "log_model.fit(X_train, y_train)\n",
    "log_y_pred = log_model.predict(X_test)\n",
    "\n",
    "log_acs = accuracy_score(y_test, log_y_pred)\n",
    "\n",
    "print(f\"Logistic Regression Accuracy Score: {log_acs * 100}%\")"
   ]
  },
  {
   "cell_type": "code",
   "execution_count": 9,
   "id": "77df9804",
   "metadata": {},
   "outputs": [
    {
     "name": "stdout",
     "output_type": "stream",
     "text": [
      "SVM Accuracy Score: 92.10526315789474%\n"
     ]
    }
   ],
   "source": [
    "# svm model\n",
    "svm_model = SVC(kernel=\"linear\")\n",
    "svm_model.fit(X_train, y_train)\n",
    "\n",
    "svm_y_pred = svm_model.predict(X_test)\n",
    "\n",
    "svm_acs = accuracy_score(y_test, svm_y_pred)\n",
    "\n",
    "print(f\"SVM Accuracy Score: {svm_acs * 100}%\")"
   ]
  },
  {
   "cell_type": "code",
   "execution_count": 12,
   "id": "179cd619",
   "metadata": {},
   "outputs": [
    {
     "name": "stdout",
     "output_type": "stream",
     "text": [
      "Decision Tree Accuracy Score: 92.10526315789474%\n"
     ]
    }
   ],
   "source": [
    "# decision tree model\n",
    "dt_model = DecisionTreeClassifier(random_state=42)\n",
    "dt_model.fit(X_train, y_train)\n",
    "\n",
    "dt_y_pred = dt_model.predict(X_test)\n",
    "\n",
    "dt_acs = accuracy_score(y_test, dt_y_pred)\n",
    "\n",
    "print(f\"Decision Tree Accuracy Score: {dt_acs * 100}%\")"
   ]
  },
  {
   "cell_type": "code",
   "execution_count": 13,
   "id": "2978b892",
   "metadata": {},
   "outputs": [
    {
     "name": "stdout",
     "output_type": "stream",
     "text": [
      "RandomForestClassifier Accuracy Score: 92.10526315789474%\n"
     ]
    }
   ],
   "source": [
    "# random forest model\n",
    "rf_model = RandomForestClassifier(n_estimators=100, random_state=42)\n",
    "rf_model.fit(X_train, y_train)\n",
    "\n",
    "rf_y_pred = rf_model.predict(X_test)\n",
    "\n",
    "rf_acs = accuracy_score(y_test, rf_y_pred)\n",
    "\n",
    "print(f\"RandomForestClassifier Accuracy Score: {rf_acs * 100}%\")"
   ]
  }
 ],
 "metadata": {
  "kernelspec": {
   "display_name": "Python 3",
   "language": "python",
   "name": "python3"
  },
  "language_info": {
   "codemirror_mode": {
    "name": "ipython",
    "version": 3
   },
   "file_extension": ".py",
   "mimetype": "text/x-python",
   "name": "python",
   "nbconvert_exporter": "python",
   "pygments_lexer": "ipython3",
   "version": "3.12.3"
  }
 },
 "nbformat": 4,
 "nbformat_minor": 5
}
