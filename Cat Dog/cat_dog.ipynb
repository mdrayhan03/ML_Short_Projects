{
 "cells": [
  {
   "cell_type": "code",
   "execution_count": 1,
   "id": "4a53b882",
   "metadata": {},
   "outputs": [],
   "source": [
    "# necessary libraries\n",
    "from sklearn.linear_model import LogisticRegression # ml model\n",
    "from sklearn.svm import SVC # ml model\n",
    "from sklearn.tree import DecisionTreeClassifier # ml model\n",
    "from sklearn.ensemble import RandomForestClassifier # ml model\n",
    "from sklearn.neighbors import KNeighborsClassifier # ml model\n",
    "from sklearn.model_selection import train_test_split # split data for train & test\n",
    "from sklearn.metrics import accuracy_score # test the accuracy\n",
    "import pandas as pd # load csv\n",
    "import numpy as np # convert image to np array\n",
    "import joblib #  extract the model in pkl format\n",
    "import os\n",
    "from PIL import Image"
   ]
  },
  {
   "cell_type": "code",
   "execution_count": 2,
   "id": "4595a6cd",
   "metadata": {},
   "outputs": [],
   "source": [
    "cat_path = \"Cat\"\n",
    "dog_path = \"Dog\"\n",
    "\n",
    "cat_images = []\n",
    "dog_images = []\n",
    "\n",
    "for path in os.listdir(cat_path):\n",
    "    img = Image.open(os.path.join(cat_path, path))\n",
    "    img = img.resize((100,100))\n",
    "    img = img.convert('L')\n",
    "    img = np.array(img)\n",
    "    img = img.flatten()\n",
    "    cat_images.append(img)\n",
    "cat_images = np.asarray(cat_images)\n",
    "\n",
    "for path in os.listdir(dog_path):\n",
    "    img = Image.open(os.path.join(dog_path, path))\n",
    "    img = img.resize((100,100))\n",
    "    img = img.convert('L')\n",
    "    img = np.array(img)\n",
    "    img = img.flatten()\n",
    "    dog_images.append(img)\n",
    "dog_images = np.asarray(dog_images)"
   ]
  },
  {
   "cell_type": "code",
   "execution_count": 3,
   "id": "6bd58308",
   "metadata": {},
   "outputs": [],
   "source": [
    "cat_label = np.zeros((100,1))\n",
    "dog_label = np.ones((100,1))"
   ]
  },
  {
   "cell_type": "code",
   "execution_count": 4,
   "id": "9ef3f2e6",
   "metadata": {},
   "outputs": [],
   "source": [
    "images = np.concatenate((cat_images, dog_images), axis=0)\n",
    "labels = np.concatenate((cat_label, dog_label), axis=0)\n",
    "labels = labels.ravel()"
   ]
  },
  {
   "cell_type": "code",
   "execution_count": 5,
   "id": "2249efd3",
   "metadata": {},
   "outputs": [],
   "source": [
    "def shuffle_data(images, labels):\n",
    "    indices = np.arange(images.shape[0])\n",
    "    np.random.shuffle(indices)\n",
    "    images = images[indices]\n",
    "    labels = labels[indices]\n",
    "    return images, labels\n",
    "\n",
    "images, labels = shuffle_data(images, labels)"
   ]
  },
  {
   "cell_type": "code",
   "execution_count": 6,
   "id": "f09b37fb",
   "metadata": {},
   "outputs": [],
   "source": [
    "x_data = images\n",
    "y_data = labels"
   ]
  },
  {
   "cell_type": "code",
   "execution_count": 7,
   "id": "6b8646c2",
   "metadata": {},
   "outputs": [],
   "source": [
    "X_train, X_test, y_train, y_test = train_test_split(x_data, y_data)"
   ]
  },
  {
   "cell_type": "code",
   "execution_count": 8,
   "id": "af8c654b",
   "metadata": {},
   "outputs": [
    {
     "name": "stdout",
     "output_type": "stream",
     "text": [
      "Logistic Regression Accuracy Score: 50.0%\n"
     ]
    }
   ],
   "source": [
    "# logistic regression model\n",
    "log_model = LogisticRegression(max_iter=100)\n",
    "log_model.fit(X_train, y_train)\n",
    "log_y_pred = log_model.predict(X_test)\n",
    "\n",
    "log_acs = accuracy_score(y_test, log_y_pred)\n",
    "\n",
    "print(f\"Logistic Regression Accuracy Score: {log_acs * 100}%\")"
   ]
  },
  {
   "cell_type": "code",
   "execution_count": 9,
   "id": "9a3797f5",
   "metadata": {},
   "outputs": [
    {
     "name": "stdout",
     "output_type": "stream",
     "text": [
      "SVM Accuracy Score: 54.0%\n"
     ]
    }
   ],
   "source": [
    "# svm model\n",
    "svm_model = SVC(kernel=\"linear\")\n",
    "svm_model.fit(X_train, y_train)\n",
    "\n",
    "svm_y_pred = svm_model.predict(X_test)\n",
    "\n",
    "svm_acs = accuracy_score(y_test, svm_y_pred)\n",
    "\n",
    "print(f\"SVM Accuracy Score: {svm_acs * 100}%\")"
   ]
  },
  {
   "cell_type": "code",
   "execution_count": 10,
   "id": "38bb31b6",
   "metadata": {},
   "outputs": [
    {
     "name": "stdout",
     "output_type": "stream",
     "text": [
      "Decision Tree Accuracy Score: 57.99999999999999%\n"
     ]
    }
   ],
   "source": [
    "# decision tree model\n",
    "dt_model = DecisionTreeClassifier(random_state=42)\n",
    "dt_model.fit(X_train, y_train)\n",
    "\n",
    "dt_y_pred = dt_model.predict(X_test)\n",
    "\n",
    "dt_acs = accuracy_score(y_test, dt_y_pred)\n",
    "\n",
    "print(f\"Decision Tree Accuracy Score: {dt_acs * 100}%\")"
   ]
  },
  {
   "cell_type": "code",
   "execution_count": 11,
   "id": "3622ac00",
   "metadata": {},
   "outputs": [
    {
     "name": "stdout",
     "output_type": "stream",
     "text": [
      "RandomForestClassifier Accuracy Score: 64.0%\n"
     ]
    }
   ],
   "source": [
    "# random forest model\n",
    "rf_model = RandomForestClassifier(n_estimators=100, random_state=42)\n",
    "rf_model.fit(X_train, y_train)\n",
    "\n",
    "rf_y_pred = rf_model.predict(X_test)\n",
    "\n",
    "rf_acs = accuracy_score(y_test, rf_y_pred)\n",
    "\n",
    "print(f\"RandomForestClassifier Accuracy Score: {rf_acs * 100}%\")"
   ]
  },
  {
   "cell_type": "code",
   "execution_count": 12,
   "id": "ce1440bf",
   "metadata": {},
   "outputs": [
    {
     "name": "stdout",
     "output_type": "stream",
     "text": [
      "KNeighborsClassifier Accuracy Score: 52.0%\n"
     ]
    }
   ],
   "source": [
    "# kneighbors classifier model\n",
    "knc_model = KNeighborsClassifier(n_neighbors=3)\n",
    "knc_model.fit(X_train, y_train)\n",
    "\n",
    "knc_y_pred = knc_model.predict(X_test)\n",
    "\n",
    "knc_acs = accuracy_score(y_test, knc_y_pred)\n",
    "\n",
    "print(f\"KNeighborsClassifier Accuracy Score: {knc_acs * 100}%\")"
   ]
  },
  {
   "cell_type": "code",
   "execution_count": 13,
   "id": "3bfc85f9",
   "metadata": {},
   "outputs": [
    {
     "data": {
      "text/plain": [
       "['cat_dog_randomforest_model.pkl']"
      ]
     },
     "execution_count": 13,
     "metadata": {},
     "output_type": "execute_result"
    }
   ],
   "source": [
    "# extracting model and vectorize data\n",
    "joblib.dump(rf_model, \"cat_dog_randomforest_model.pkl\")"
   ]
  },
  {
   "cell_type": "code",
   "execution_count": 20,
   "id": "be436f4d",
   "metadata": {},
   "outputs": [],
   "source": [
    "def predict_image(file_path) :\n",
    "    img = Image.open(file_path)\n",
    "    img = img.resize((100,100))\n",
    "    img = img.convert('L')\n",
    "    img = np.array(img)\n",
    "    img = img.flatten().reshape(1, -1)\n",
    "    img = np.asarray(img)\n",
    "    predict = rf_model.predict(img)\n",
    "    print(f\"Prediction: {\"Cat\" if predict == 0 else \"Dog\"}\")"
   ]
  },
  {
   "cell_type": "code",
   "execution_count": 25,
   "id": "b9357ee5",
   "metadata": {},
   "outputs": [
    {
     "name": "stdout",
     "output_type": "stream",
     "text": [
      "Prediction: Dog\n"
     ]
    }
   ],
   "source": [
    "from plyer import filechooser\n",
    "file_path = filechooser.open_file(title=\"Select an Image\", filters=[(\"Image Files\", \"*.jpg;*.jpeg;*.png;*.bmp;*.gif\")])\n",
    "\n",
    "if file_path:\n",
    "    predict_image(file_path[0])\n",
    "else:\n",
    "    print(\"No file selected.\")"
   ]
  }
 ],
 "metadata": {
  "kernelspec": {
   "display_name": "Python 3",
   "language": "python",
   "name": "python3"
  },
  "language_info": {
   "codemirror_mode": {
    "name": "ipython",
    "version": 3
   },
   "file_extension": ".py",
   "mimetype": "text/x-python",
   "name": "python",
   "nbconvert_exporter": "python",
   "pygments_lexer": "ipython3",
   "version": "3.12.3"
  }
 },
 "nbformat": 4,
 "nbformat_minor": 5
}
