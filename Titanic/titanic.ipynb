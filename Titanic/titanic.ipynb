{
 "cells": [
  {
   "cell_type": "code",
   "execution_count": 6,
   "id": "e5abbb66",
   "metadata": {},
   "outputs": [],
   "source": [
    "# necessary libraries\n",
    "from sklearn.linear_model import LogisticRegression # ml model\n",
    "from sklearn.svm import SVC # ml model\n",
    "from sklearn.tree import DecisionTreeClassifier # ml model\n",
    "from sklearn.ensemble import RandomForestClassifier # ml model\n",
    "from sklearn.model_selection import train_test_split # split data for train & test\n",
    "from sklearn.metrics import accuracy_score # test the accuracy\n",
    "import pandas as pd # load csv\n",
    "import joblib #  extract the model in pkl format"
   ]
  },
  {
   "cell_type": "code",
   "execution_count": 7,
   "id": "e326f1bd",
   "metadata": {},
   "outputs": [],
   "source": [
    "# load data\n",
    "data = pd.read_csv(\"titanic.csv\")"
   ]
  },
  {
   "cell_type": "code",
   "execution_count": 8,
   "id": "367ca1b8",
   "metadata": {},
   "outputs": [
    {
     "name": "stderr",
     "output_type": "stream",
     "text": [
      "C:\\Users\\MD. Rayhan Hossain\\AppData\\Local\\Temp\\ipykernel_13276\\582866312.py:3: FutureWarning: A value is trying to be set on a copy of a DataFrame or Series through chained assignment using an inplace method.\n",
      "The behavior will change in pandas 3.0. This inplace method will never work because the intermediate object on which we are setting values always behaves as a copy.\n",
      "\n",
      "For example, when doing 'df[col].method(value, inplace=True)', try using 'df.method({col: value}, inplace=True)' or df[col] = df[col].method(value) instead, to perform the operation inplace on the original object.\n",
      "\n",
      "\n",
      "  data['Age'].fillna(data['Age'].mean(), inplace=True)\n",
      "C:\\Users\\MD. Rayhan Hossain\\AppData\\Local\\Temp\\ipykernel_13276\\582866312.py:4: FutureWarning: A value is trying to be set on a copy of a DataFrame or Series through chained assignment using an inplace method.\n",
      "The behavior will change in pandas 3.0. This inplace method will never work because the intermediate object on which we are setting values always behaves as a copy.\n",
      "\n",
      "For example, when doing 'df[col].method(value, inplace=True)', try using 'df.method({col: value}, inplace=True)' or df[col] = df[col].method(value) instead, to perform the operation inplace on the original object.\n",
      "\n",
      "\n",
      "  data['Fare'].fillna(data['Fare'].mean(), inplace=True)\n",
      "C:\\Users\\MD. Rayhan Hossain\\AppData\\Local\\Temp\\ipykernel_13276\\582866312.py:5: FutureWarning: A value is trying to be set on a copy of a DataFrame or Series through chained assignment using an inplace method.\n",
      "The behavior will change in pandas 3.0. This inplace method will never work because the intermediate object on which we are setting values always behaves as a copy.\n",
      "\n",
      "For example, when doing 'df[col].method(value, inplace=True)', try using 'df.method({col: value}, inplace=True)' or df[col] = df[col].method(value) instead, to perform the operation inplace on the original object.\n",
      "\n",
      "\n",
      "  data[\"Embarked\"].fillna(\"S\", inplace=True)\n"
     ]
    }
   ],
   "source": [
    "# data handling\n",
    "data[\"Sex\"] = data[\"Sex\"].map({\"male\" : 0, \"female\" : 1})\n",
    "data['Age'].fillna(data['Age'].mean(), inplace=True)\n",
    "data['Fare'].fillna(data['Fare'].mean(), inplace=True)\n",
    "data[\"Embarked\"].fillna(\"S\", inplace=True)\n",
    "data[\"Embarked\"] = data[\"Embarked\"].map({'S': 0, 'C': 1, 'Q': 2})"
   ]
  },
  {
   "cell_type": "code",
   "execution_count": 9,
   "id": "65c9c708",
   "metadata": {},
   "outputs": [],
   "source": [
    "x_data = data[['Pclass', 'Sex', 'Age', 'SibSp', 'Parch', 'Fare', 'Embarked']]\n",
    "y_data = data[\"Survived\"]"
   ]
  },
  {
   "cell_type": "code",
   "execution_count": 10,
   "id": "01f344db",
   "metadata": {},
   "outputs": [],
   "source": [
    "X_train, X_test, y_train, y_test = train_test_split(x_data, y_data)"
   ]
  },
  {
   "cell_type": "code",
   "execution_count": 16,
   "id": "9b458eb5",
   "metadata": {},
   "outputs": [
    {
     "name": "stdout",
     "output_type": "stream",
     "text": [
      "Logistic Regression Accuracy Score: 100.0%\n"
     ]
    },
    {
     "name": "stderr",
     "output_type": "stream",
     "text": [
      "d:\\Python\\Lib\\site-packages\\sklearn\\linear_model\\_logistic.py:465: ConvergenceWarning: lbfgs failed to converge (status=1):\n",
      "STOP: TOTAL NO. OF ITERATIONS REACHED LIMIT.\n",
      "\n",
      "Increase the number of iterations (max_iter) or scale the data as shown in:\n",
      "    https://scikit-learn.org/stable/modules/preprocessing.html\n",
      "Please also refer to the documentation for alternative solver options:\n",
      "    https://scikit-learn.org/stable/modules/linear_model.html#logistic-regression\n",
      "  n_iter_i = _check_optimize_result(\n"
     ]
    }
   ],
   "source": [
    "# logistic regression model\n",
    "log_model = LogisticRegression(max_iter=100)\n",
    "log_model.fit(X_train, y_train)\n",
    "log_y_pred = log_model.predict(X_test)\n",
    "\n",
    "log_acs = accuracy_score(y_test, log_y_pred)\n",
    "\n",
    "print(f\"Logistic Regression Accuracy Score: {log_acs * 100}%\")"
   ]
  },
  {
   "cell_type": "code",
   "execution_count": 21,
   "id": "7b98a615",
   "metadata": {},
   "outputs": [
    {
     "name": "stdout",
     "output_type": "stream",
     "text": [
      "SVM Accuracy Score: 100.0%\n"
     ]
    }
   ],
   "source": [
    "# svm model\n",
    "svm_model = SVC(kernel=\"linear\")\n",
    "svm_model.fit(X_train, y_train)\n",
    "\n",
    "svm_y_pred = svm_model.predict(X_test)\n",
    "\n",
    "svm_acs = accuracy_score(y_test, svm_y_pred)\n",
    "\n",
    "print(f\"SVM Accuracy Score: {svm_acs * 100}%\")"
   ]
  },
  {
   "cell_type": "code",
   "execution_count": 13,
   "id": "32c2928a",
   "metadata": {},
   "outputs": [
    {
     "name": "stdout",
     "output_type": "stream",
     "text": [
      "Decision Tree Accuracy Score: 100.0%\n"
     ]
    }
   ],
   "source": [
    "# decision tree model\n",
    "dt_model = DecisionTreeClassifier(random_state=42)\n",
    "dt_model.fit(X_train, y_train)\n",
    "\n",
    "dt_y_pred = dt_model.predict(X_test)\n",
    "\n",
    "dt_acs = accuracy_score(y_test, dt_y_pred)\n",
    "\n",
    "print(f\"Decision Tree Accuracy Score: {dt_acs * 100}%\")"
   ]
  },
  {
   "cell_type": "code",
   "execution_count": 14,
   "id": "5e1ed905",
   "metadata": {},
   "outputs": [
    {
     "name": "stdout",
     "output_type": "stream",
     "text": [
      "RandomForestClassifier Accuracy Score: 100.0%\n"
     ]
    }
   ],
   "source": [
    "# random forest model\n",
    "rf_model = RandomForestClassifier(n_estimators=100, random_state=42)\n",
    "rf_model.fit(X_train, y_train)\n",
    "\n",
    "rf_y_pred = rf_model.predict(X_test)\n",
    "\n",
    "rf_acs = accuracy_score(y_test, rf_y_pred)\n",
    "\n",
    "print(f\"RandomForestClassifier Accuracy Score: {rf_acs * 100}%\")"
   ]
  }
 ],
 "metadata": {
  "kernelspec": {
   "display_name": "Python 3",
   "language": "python",
   "name": "python3"
  },
  "language_info": {
   "codemirror_mode": {
    "name": "ipython",
    "version": 3
   },
   "file_extension": ".py",
   "mimetype": "text/x-python",
   "name": "python",
   "nbconvert_exporter": "python",
   "pygments_lexer": "ipython3",
   "version": "3.12.3"
  }
 },
 "nbformat": 4,
 "nbformat_minor": 5
}
